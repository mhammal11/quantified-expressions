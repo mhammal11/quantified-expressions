{
 "cells": [
  {
   "cell_type": "markdown",
   "metadata": {},
   "source": [
    "### P0 Parsing Tests"
   ]
  },
  {
   "cell_type": "markdown",
   "metadata": {},
   "source": [
    "**Emil Sekerinski, McMaster University, revised February 2022**"
   ]
  },
  {
   "cell_type": "code",
   "execution_count": 1,
   "metadata": {},
   "outputs": [
    {
     "name": "stdout",
     "output_type": "stream",
     "text": [
      "Importing Jupyter notebook from P0.ipynb\n",
      "Importing Jupyter notebook from SC.ipynb\n",
      "Importing Jupyter notebook from ST.ipynb\n"
     ]
    }
   ],
   "source": [
    "import nbimporter; nbimporter.options[\"only_defs\"] = False\n",
    "from P0 import compileString"
   ]
  },
  {
   "cell_type": "code",
   "execution_count": 2,
   "metadata": {},
   "outputs": [],
   "source": [
    "def runpywasm(wasmfile):\n",
    "    import pywasm\n",
    "    def write(s, i): print(i)\n",
    "    def writeln(s): print('\\n')\n",
    "    def read(s): return int(input())\n",
    "    vm = pywasm.load(wasmfile, {'P0lib': {'write': write, 'writeln': writeln, 'read': read}})"
   ]
  },
  {
   "cell_type": "code",
   "execution_count": 3,
   "metadata": {},
   "outputs": [],
   "source": [
    "def runwasm(wasmfile):\n",
    "    from IPython.core.display import display, Javascript\n",
    "    display(Javascript(\"\"\"\n",
    "    const params = { \n",
    "        P0lib: { \n",
    "            write: i => this.append_stream({text: '' + i, name: 'stdout'}),\n",
    "            writeln: () => this.append_stream({text: '\\\\n', name: 'stdout'}),\n",
    "            read: () => window.prompt()\n",
    "        }\n",
    "    }\n",
    "\n",
    "    fetch('\"\"\" + wasmfile + \"\"\"') // asynchronously fetch file, return Response object\n",
    "      .then(response => response.arrayBuffer()) // read the response to completion and stores it in an ArrayBuffer\n",
    "      .then(code => WebAssembly.compile(code)) // compile (sharable) code.wasm\n",
    "      .then(module => WebAssembly.instantiate(module, params)) // create an instance with memory\n",
    "    // .then(instance => instance.exports.program()); // run the main program; not needed if start function specified\n",
    "    \"\"\"))"
   ]
  },
  {
   "cell_type": "code",
   "execution_count": 4,
   "metadata": {},
   "outputs": [
    {
     "name": "stdout",
     "output_type": "stream",
     "text": [
      "Importing Jupyter notebook from CGwat.ipynb\n"
     ]
    }
   ],
   "source": [
    "compileString(\"\"\"\n",
    "program p\n",
    "    var x: set[0..1]\n",
    "    var i : integer\n",
    "    var m : integer\n",
    "    var j : integer\n",
    "    var n : integer\n",
    "    x := {i + 2 for i in range 5 if i > 2}\n",
    "    m := 1\n",
    "    j := 3\n",
    "    n := 5\n",
    "    if m ∈ x then write(m)\n",
    "    if j ∈ x then write(j)\n",
    "    if n ∈ x then write(n)\n",
    "\"\"\", \"example.wat\")"
   ]
  },
  {
   "cell_type": "code",
   "execution_count": 5,
   "metadata": {},
   "outputs": [],
   "source": [
    "!wat2wasm example.wat"
   ]
  },
  {
   "cell_type": "code",
   "execution_count": 6,
   "metadata": {},
   "outputs": [
    {
     "name": "stdout",
     "output_type": "stream",
     "text": [
      "5\n"
     ]
    }
   ],
   "source": [
    "runpywasm(\"example.wasm\")"
   ]
  },
  {
   "cell_type": "code",
   "execution_count": 7,
   "metadata": {},
   "outputs": [],
   "source": [
    "compileString(\"\"\"\n",
    "program p\n",
    "    var x: set[0..1]\n",
    "    var i : integer\n",
    "    var m : integer\n",
    "    var j : integer\n",
    "    x := {i = 3 for i in range 5 if i > 2}\n",
    "    m := 1\n",
    "    j := 0\n",
    "    if m ∈ x then write(m)\n",
    "    if j ∈ x then write(j)\n",
    "\"\"\", \"example.wat\")"
   ]
  },
  {
   "cell_type": "code",
   "execution_count": 8,
   "metadata": {},
   "outputs": [],
   "source": [
    "!wat2wasm example.wat"
   ]
  },
  {
   "cell_type": "code",
   "execution_count": 9,
   "metadata": {},
   "outputs": [
    {
     "name": "stdout",
     "output_type": "stream",
     "text": [
      "1\n",
      "0\n"
     ]
    }
   ],
   "source": [
    "runpywasm(\"example.wasm\")"
   ]
  },
  {
   "cell_type": "code",
   "execution_count": 10,
   "metadata": {},
   "outputs": [],
   "source": [
    "compileString(\"\"\"\n",
    "program p\n",
    "    var x: set[0..1]\n",
    "    var i : integer\n",
    "    var m : integer\n",
    "    var j : integer\n",
    "    var n : integer\n",
    "    x := {i for i in range 5 if i > 2}\n",
    "    m := 1\n",
    "    j := 3\n",
    "    n := 5\n",
    "    if m ∈ x then write(m)\n",
    "    if j ∈ x then write(j)\n",
    "    if n ∈ x then write(n)\n",
    "\"\"\", \"example.wat\")"
   ]
  },
  {
   "cell_type": "code",
   "execution_count": 11,
   "metadata": {},
   "outputs": [],
   "source": [
    "!wat2wasm example.wat"
   ]
  },
  {
   "cell_type": "code",
   "execution_count": 12,
   "metadata": {},
   "outputs": [
    {
     "name": "stdout",
     "output_type": "stream",
     "text": [
      "3\n"
     ]
    }
   ],
   "source": [
    "runpywasm(\"example.wasm\")"
   ]
  },
  {
   "cell_type": "code",
   "execution_count": 13,
   "metadata": {},
   "outputs": [],
   "source": [
    "compileString(\"\"\"\n",
    "program p\n",
    "    var x: set[0..1]\n",
    "    var i : integer\n",
    "    var m : integer\n",
    "    var j : integer\n",
    "    var n : integer\n",
    "    x := {i for i in range 5}\n",
    "    m := 1\n",
    "    j := 3\n",
    "    n := 5\n",
    "    if m ∈ x then write(m)\n",
    "    if j ∈ x then write(j)\n",
    "    if n ∈ x then write(n)\n",
    "\"\"\", \"example.wat\")"
   ]
  },
  {
   "cell_type": "code",
   "execution_count": 14,
   "metadata": {},
   "outputs": [],
   "source": [
    "!wat2wasm example.wat"
   ]
  },
  {
   "cell_type": "code",
   "execution_count": 15,
   "metadata": {},
   "outputs": [
    {
     "name": "stdout",
     "output_type": "stream",
     "text": [
      "1\n",
      "3\n"
     ]
    }
   ],
   "source": [
    "runpywasm(\"example.wasm\")"
   ]
  },
  {
   "cell_type": "code",
   "execution_count": 16,
   "metadata": {},
   "outputs": [],
   "source": [
    "compileString(\"\"\"\n",
    "program p\n",
    "    var x: set[0..1]\n",
    "    var i : integer\n",
    "    var m : integer\n",
    "    var j : integer\n",
    "    var n : integer\n",
    "    x := {i + 2 for i in range 5}\n",
    "    m := 1\n",
    "    j := 3\n",
    "    n := 5\n",
    "    if m ∈ x then write(m)\n",
    "    if j ∈ x then write(j)\n",
    "    if n ∈ x then write(n)\n",
    "\"\"\", \"example.wat\")"
   ]
  },
  {
   "cell_type": "code",
   "execution_count": 17,
   "metadata": {},
   "outputs": [],
   "source": [
    "!wat2wasm example.wat"
   ]
  },
  {
   "cell_type": "code",
   "execution_count": 18,
   "metadata": {},
   "outputs": [
    {
     "name": "stdout",
     "output_type": "stream",
     "text": [
      "3\n",
      "5\n"
     ]
    }
   ],
   "source": [
    "runpywasm(\"example.wasm\")"
   ]
  },
  {
   "cell_type": "code",
   "execution_count": 19,
   "metadata": {},
   "outputs": [],
   "source": [
    "compileString(\"\"\"\n",
    "program p\n",
    "    var y: [0..1] → integer\n",
    "    var i: integer\n",
    "    y := [i × 5 for i in range 5 if i > 2]\n",
    "    write(y[0])\n",
    "    write(y[1])\n",
    "\"\"\", \"example.wat\")"
   ]
  },
  {
   "cell_type": "code",
   "execution_count": 20,
   "metadata": {},
   "outputs": [],
   "source": [
    "!wat2wasm example.wat"
   ]
  },
  {
   "cell_type": "code",
   "execution_count": 21,
   "metadata": {},
   "outputs": [
    {
     "name": "stdout",
     "output_type": "stream",
     "text": [
      "15\n",
      "20\n"
     ]
    }
   ],
   "source": [
    "runpywasm(\"example.wasm\")"
   ]
  },
  {
   "cell_type": "code",
   "execution_count": 22,
   "metadata": {},
   "outputs": [],
   "source": [
    "compileString(\"\"\"\n",
    "program p\n",
    "    var y: [0..5] → integer\n",
    "    var i: integer\n",
    "    y := [i×5 for i in range 5]\n",
    "    write(y[0])\n",
    "    write(y[1])\n",
    "    write(y[2])\n",
    "    write(y[3])\n",
    "    write(y[4])\n",
    "\"\"\", \"example.wat\")"
   ]
  },
  {
   "cell_type": "code",
   "execution_count": 23,
   "metadata": {},
   "outputs": [],
   "source": [
    "!wat2wasm example.wat"
   ]
  },
  {
   "cell_type": "code",
   "execution_count": 24,
   "metadata": {},
   "outputs": [
    {
     "name": "stdout",
     "output_type": "stream",
     "text": [
      "0\n",
      "5\n",
      "10\n",
      "15\n",
      "20\n"
     ]
    }
   ],
   "source": [
    "runpywasm(\"example.wasm\")"
   ]
  },
  {
   "cell_type": "code",
   "execution_count": 25,
   "metadata": {},
   "outputs": [],
   "source": [
    "compileString(\"\"\"\n",
    "program p\n",
    "    var y: [0..5] → integer\n",
    "    var i: integer\n",
    "    y := [i for i in range 5]\n",
    "    write(y[0])\n",
    "    write(y[1])\n",
    "    write(y[2])\n",
    "    write(y[3])\n",
    "    write(y[4])\n",
    "\"\"\", \"example.wat\")"
   ]
  },
  {
   "cell_type": "code",
   "execution_count": 26,
   "metadata": {},
   "outputs": [],
   "source": [
    "!wat2wasm example.wat"
   ]
  },
  {
   "cell_type": "code",
   "execution_count": 27,
   "metadata": {},
   "outputs": [
    {
     "name": "stdout",
     "output_type": "stream",
     "text": [
      "0\n",
      "1\n",
      "2\n",
      "3\n",
      "4\n"
     ]
    }
   ],
   "source": [
    "runpywasm(\"example.wasm\")"
   ]
  },
  {
   "cell_type": "code",
   "execution_count": 28,
   "metadata": {},
   "outputs": [],
   "source": [
    "compileString(\"\"\"\n",
    "program p\n",
    "    var i: boolean\n",
    "    i := found 8 [1..10]\n",
    "    write(i)\n",
    "\"\"\", \"example.wat\")"
   ]
  },
  {
   "cell_type": "code",
   "execution_count": 29,
   "metadata": {},
   "outputs": [],
   "source": [
    "!wat2wasm example.wat"
   ]
  },
  {
   "cell_type": "code",
   "execution_count": 30,
   "metadata": {},
   "outputs": [
    {
     "name": "stdout",
     "output_type": "stream",
     "text": [
      "1\n"
     ]
    }
   ],
   "source": [
    "runpywasm(\"example.wasm\")"
   ]
  },
  {
   "cell_type": "code",
   "execution_count": 31,
   "metadata": {},
   "outputs": [],
   "source": [
    "compileString(\"\"\"\n",
    "program p\n",
    "    var i: boolean\n",
    "    i := found 11 [1..10]\n",
    "    write(i)\n",
    "\"\"\", \"example.wat\")"
   ]
  },
  {
   "cell_type": "code",
   "execution_count": 32,
   "metadata": {},
   "outputs": [],
   "source": [
    "!wat2wasm example.wat"
   ]
  },
  {
   "cell_type": "code",
   "execution_count": 33,
   "metadata": {},
   "outputs": [
    {
     "name": "stdout",
     "output_type": "stream",
     "text": [
      "0\n"
     ]
    }
   ],
   "source": [
    "runpywasm(\"example.wasm\")"
   ]
  },
  {
   "cell_type": "code",
   "execution_count": 43,
   "metadata": {},
   "outputs": [],
   "source": [
    "compileString(\"\"\"\n",
    "program p\n",
    "    var i: boolean\n",
    "    i := ∃ 8 [1..10]\n",
    "    write(i)\n",
    "\"\"\", \"example.wat\")"
   ]
  },
  {
   "cell_type": "code",
   "execution_count": 44,
   "metadata": {},
   "outputs": [],
   "source": [
    "!wat2wasm example.wat"
   ]
  },
  {
   "cell_type": "code",
   "execution_count": 45,
   "metadata": {},
   "outputs": [
    {
     "name": "stdout",
     "output_type": "stream",
     "text": [
      "1\n"
     ]
    }
   ],
   "source": [
    "runpywasm(\"example.wasm\")"
   ]
  },
  {
   "cell_type": "code",
   "execution_count": 46,
   "metadata": {},
   "outputs": [],
   "source": [
    "compileString(\"\"\"\n",
    "program p\n",
    "    var i: boolean\n",
    "    i := ∃ 11 [1..10]\n",
    "    write(i)\n",
    "\"\"\", \"example.wat\")"
   ]
  },
  {
   "cell_type": "code",
   "execution_count": 47,
   "metadata": {},
   "outputs": [],
   "source": [
    "!wat2wasm example.wat"
   ]
  },
  {
   "cell_type": "code",
   "execution_count": 48,
   "metadata": {},
   "outputs": [
    {
     "name": "stdout",
     "output_type": "stream",
     "text": [
      "0\n"
     ]
    }
   ],
   "source": [
    "runpywasm(\"example.wasm\")"
   ]
  },
  {
   "cell_type": "code",
   "execution_count": 34,
   "metadata": {},
   "outputs": [],
   "source": [
    "compileString(\"\"\"\n",
    "program p\n",
    "    var y: [0..5] → integer\n",
    "    var i: integer\n",
    "    y := sorted [5,3,20,1,4,0]\n",
    "    write(y[0])\n",
    "    write(y[1])\n",
    "    write(y[2])\n",
    "    write(y[3])\n",
    "    write(y[4])\n",
    "    write(y[5])\n",
    "\"\"\", \"example.wat\")"
   ]
  },
  {
   "cell_type": "code",
   "execution_count": 35,
   "metadata": {},
   "outputs": [],
   "source": [
    "!wat2wasm example.wat"
   ]
  },
  {
   "cell_type": "code",
   "execution_count": 36,
   "metadata": {},
   "outputs": [
    {
     "name": "stdout",
     "output_type": "stream",
     "text": [
      "0\n",
      "1\n",
      "3\n",
      "4\n",
      "5\n",
      "20\n"
     ]
    }
   ],
   "source": [
    "runpywasm(\"example.wasm\")"
   ]
  },
  {
   "cell_type": "code",
   "execution_count": 37,
   "metadata": {},
   "outputs": [],
   "source": [
    "compileString(\"\"\"\n",
    "program p\n",
    "    var x: [0..5] → integer\n",
    "    var i: integer\n",
    "    x := [6•i×i]\n",
    "    write(x[0])\n",
    "    write(x[1])\n",
    "    write(x[2])\n",
    "    write(x[3])\n",
    "    write(x[4])\n",
    "    write(x[5])\n",
    "\"\"\", \"example.wat\")"
   ]
  },
  {
   "cell_type": "code",
   "execution_count": 38,
   "metadata": {},
   "outputs": [],
   "source": [
    "!wat2wasm example.wat"
   ]
  },
  {
   "cell_type": "code",
   "execution_count": 39,
   "metadata": {},
   "outputs": [
    {
     "name": "stdout",
     "output_type": "stream",
     "text": [
      "0\n",
      "1\n",
      "4\n",
      "9\n",
      "16\n",
      "25\n"
     ]
    }
   ],
   "source": [
    "runpywasm(\"example.wasm\")"
   ]
  },
  {
   "cell_type": "code",
   "execution_count": 40,
   "metadata": {},
   "outputs": [],
   "source": [
    "compileString(\"\"\"\n",
    "program p\n",
    "    var x: set[0..1]\n",
    "    var i : integer\n",
    "    var m : integer\n",
    "    var j : integer\n",
    "    var n : integer\n",
    "    x := {5 | i mod 2 = 1 • i}\n",
    "    m := 1\n",
    "    j := 3\n",
    "    n := 5\n",
    "    if m ∈ x then write(m)\n",
    "    if j ∈ x then write(j)\n",
    "    if n ∈ x then write(n)\n",
    "\"\"\", \"example.wat\")"
   ]
  },
  {
   "cell_type": "code",
   "execution_count": 41,
   "metadata": {},
   "outputs": [],
   "source": [
    "!wat2wasm example.wat"
   ]
  },
  {
   "cell_type": "code",
   "execution_count": 42,
   "metadata": {},
   "outputs": [
    {
     "name": "stdout",
     "output_type": "stream",
     "text": [
      "1\n",
      "3\n"
     ]
    }
   ],
   "source": [
    "runpywasm(\"example.wasm\")"
   ]
  },
  {
   "cell_type": "markdown",
   "metadata": {},
   "source": [
    "Procedure `compileerr(s)` returns an empty string if compiling `s` succeeds or the error message produced while compiling; the error message is also printed. The procedure is used here to test parsing."
   ]
  },
  {
   "cell_type": "code",
   "execution_count": 43,
   "metadata": {},
   "outputs": [],
   "source": [
    "def compileerr(s):\n",
    "    try: compileString(s); return ''\n",
    "    except Exception as e:\n",
    "        print(e); return str(e)"
   ]
  },
  {
   "cell_type": "markdown",
   "metadata": {},
   "source": [
    "#### Error \"} expected\""
   ]
  },
  {
   "cell_type": "code",
   "execution_count": 44,
   "metadata": {},
   "outputs": [
    {
     "name": "stdout",
     "output_type": "stream",
     "text": [
      "line 5 pos 29 } expected\n"
     ]
    }
   ],
   "source": [
    "assert \"} expected\" in compileerr(\"\"\"\n",
    "program p\n",
    "    var x: set[0..1]\n",
    "    var i: integer\n",
    "    x := {5 | i mod 2 = 1 • i\n",
    "\"\"\")"
   ]
  },
  {
   "cell_type": "markdown",
   "metadata": {},
   "source": [
    "#### Error \"identifiers should be the same\""
   ]
  },
  {
   "cell_type": "code",
   "execution_count": 45,
   "metadata": {},
   "outputs": [
    {
     "name": "stdout",
     "output_type": "stream",
     "text": [
      "line 6 pos 30 identifiers should be the same in \"i mod 2 = 1 • i\"\n"
     ]
    }
   ],
   "source": [
    "assert \"identifiers should be the same\" in compileerr(\"\"\"\n",
    "program p\n",
    "    var x: set[0..1]\n",
    "    var i: integer\n",
    "    var j: integer\n",
    "    x := {5 | i mod 2 = 1 • j}\n",
    "\"\"\")"
   ]
  },
  {
   "cell_type": "markdown",
   "metadata": {},
   "source": [
    "#### Error \"mod expected\""
   ]
  },
  {
   "cell_type": "code",
   "execution_count": 46,
   "metadata": {},
   "outputs": [
    {
     "name": "stdout",
     "output_type": "stream",
     "text": [
      "line 5 pos 17 mod expected\n"
     ]
    }
   ],
   "source": [
    "assert \"mod expected\" in compileerr(\"\"\"\n",
    "program p\n",
    "    var x: set[0..1]\n",
    "    var i: integer\n",
    "    x := {5 | i 2 = 1 • i}\n",
    "\"\"\")"
   ]
  },
  {
   "cell_type": "markdown",
   "metadata": {},
   "source": [
    "#### Error \"= expected\""
   ]
  },
  {
   "cell_type": "code",
   "execution_count": 47,
   "metadata": {},
   "outputs": [
    {
     "name": "stdout",
     "output_type": "stream",
     "text": [
      "line 5 pos 23 = expected\n"
     ]
    }
   ],
   "source": [
    "assert \"= expected\" in compileerr(\"\"\"\n",
    "program p\n",
    "    var x: set[0..1]\n",
    "    var i: integer\n",
    "    x := {5 | i mod 2 1 • i}\n",
    "\"\"\")"
   ]
  },
  {
   "cell_type": "markdown",
   "metadata": {},
   "source": [
    "#### Error \"1 expected\""
   ]
  },
  {
   "cell_type": "code",
   "execution_count": 48,
   "metadata": {},
   "outputs": [
    {
     "name": "stdout",
     "output_type": "stream",
     "text": [
      "line 5 pos 27 1 expected\n"
     ]
    }
   ],
   "source": [
    "assert \"1 expected\" in compileerr(\"\"\"\n",
    "program p\n",
    "    var x: set[0..1]\n",
    "    var i: integer\n",
    "    x := {5 | i mod 2 = 4 • i}\n",
    "\"\"\")"
   ]
  },
  {
   "cell_type": "markdown",
   "metadata": {},
   "source": [
    "#### Error \"2 expected\""
   ]
  },
  {
   "cell_type": "code",
   "execution_count": 49,
   "metadata": {},
   "outputs": [
    {
     "name": "stdout",
     "output_type": "stream",
     "text": [
      "line 6 pos 23 2 expected\n"
     ]
    }
   ],
   "source": [
    "assert \"2 expected\" in compileerr(\"\"\"\n",
    "program p\n",
    "    var x: set[0..1]\n",
    "    var i: integer\n",
    "    var j: integer\n",
    "    x := {5 | i mod 4 = 1 • j}\n",
    "\"\"\")"
   ]
  },
  {
   "cell_type": "markdown",
   "metadata": {},
   "source": [
    "#### Error \"identifier expected\""
   ]
  },
  {
   "cell_type": "code",
   "execution_count": 50,
   "metadata": {},
   "outputs": [
    {
     "name": "stdout",
     "output_type": "stream",
     "text": [
      "line 5 pos 15 identifier expected\n"
     ]
    }
   ],
   "source": [
    "assert \"identifier expected\" in compileerr(\"\"\"\n",
    "program p\n",
    "    var x: set[0..1]\n",
    "    var i: integer\n",
    "    x := {5 | 1 mod 2 = 1 • i}\n",
    "\"\"\")"
   ]
  },
  {
   "cell_type": "markdown",
   "metadata": {},
   "source": [
    "#### Error \"identifier expected\""
   ]
  },
  {
   "cell_type": "code",
   "execution_count": 35,
   "metadata": {},
   "outputs": [
    {
     "name": "stdout",
     "output_type": "stream",
     "text": [
      "line 5 pos 29 identifier expected\n"
     ]
    }
   ],
   "source": [
    "assert \"identifier expected\" in compileerr(\"\"\"\n",
    "program p\n",
    "    var x: set[0..1]\n",
    "    var i: integer\n",
    "    x := {5 | i mod 2 = 1 • 1}\n",
    "\"\"\")"
   ]
  },
  {
   "cell_type": "markdown",
   "metadata": {},
   "source": [
    "#### Error \"} expected\""
   ]
  },
  {
   "cell_type": "code",
   "execution_count": 39,
   "metadata": {},
   "outputs": [
    {
     "name": "stdout",
     "output_type": "stream",
     "text": [
      "line 5 pos 28 } expected\n"
     ]
    }
   ],
   "source": [
    "assert \"} expected\" in compileerr(\"\"\"\n",
    "program p\n",
    "    var x: set[0..1]\n",
    "    var i: integer\n",
    "    x := {i for i in range 5\n",
    "\"\"\")"
   ]
  },
  {
   "cell_type": "markdown",
   "metadata": {},
   "source": [
    "#### Error \"'in' expected\""
   ]
  },
  {
   "cell_type": "code",
   "execution_count": 14,
   "metadata": {},
   "outputs": [
    {
     "name": "stdout",
     "output_type": "stream",
     "text": [
      "line 5 pos 23 'in' expected\n"
     ]
    }
   ],
   "source": [
    "assert \"'in' expected\" in compileerr(\"\"\"\n",
    "program p\n",
    "    var x: set[0..1]\n",
    "    var i: integer\n",
    "    x := {i for i range 5}\n",
    "\"\"\")"
   ]
  },
  {
   "cell_type": "markdown",
   "metadata": {},
   "source": [
    "#### Error \"'range' expected\""
   ]
  },
  {
   "cell_type": "code",
   "execution_count": 16,
   "metadata": {},
   "outputs": [
    {
     "name": "stdout",
     "output_type": "stream",
     "text": [
      "line 5 pos 22 'range' expected\n"
     ]
    }
   ],
   "source": [
    "assert \"'range' expected\" in compileerr(\"\"\"\n",
    "program p\n",
    "    var x: set[0..1]\n",
    "    var i: integer\n",
    "    x := {i for i in 5}\n",
    "\"\"\")"
   ]
  },
  {
   "cell_type": "markdown",
   "metadata": {},
   "source": [
    "#### Error \"] expected\""
   ]
  },
  {
   "cell_type": "code",
   "execution_count": 6,
   "metadata": {},
   "outputs": [
    {
     "name": "stdout",
     "output_type": "stream",
     "text": [
      "line 5 pos 15 ] expected\n"
     ]
    }
   ],
   "source": [
    "assert \"] expected\" in compileerr(\"\"\"\n",
    "program p\n",
    "    var x: [0..5] → integer\n",
    "    var i: integer\n",
    "    x := [6•i×i\n",
    "\"\"\")"
   ]
  },
  {
   "cell_type": "markdown",
   "metadata": {},
   "source": [
    "#### Error \"'in' expected\""
   ]
  },
  {
   "cell_type": "code",
   "execution_count": 42,
   "metadata": {},
   "outputs": [
    {
     "name": "stdout",
     "output_type": "stream",
     "text": [
      "line 5 pos 23 'in' expected\n"
     ]
    }
   ],
   "source": [
    "assert \"'in' expected\" in compileerr(\"\"\"\n",
    "program p\n",
    "    var x: [0..5] → integer\n",
    "    var i: integer\n",
    "    x := [i for i range 5]\n",
    "\"\"\")"
   ]
  },
  {
   "cell_type": "markdown",
   "metadata": {},
   "source": [
    "#### Error \"'range' expected\""
   ]
  },
  {
   "cell_type": "code",
   "execution_count": 41,
   "metadata": {},
   "outputs": [
    {
     "name": "stdout",
     "output_type": "stream",
     "text": [
      "line 5 pos 22 'range' expected\n"
     ]
    }
   ],
   "source": [
    "assert \"'range' expected\" in compileerr(\"\"\"\n",
    "program p\n",
    "    var x: [0..5] → integer\n",
    "    var i: integer\n",
    "    x := [i for i in 5]\n",
    "\"\"\")"
   ]
  },
  {
   "cell_type": "markdown",
   "metadata": {},
   "source": [
    "#### Error \"identifiers should be the same\""
   ]
  },
  {
   "cell_type": "code",
   "execution_count": 22,
   "metadata": {},
   "outputs": [
    {
     "name": "stdout",
     "output_type": "stream",
     "text": [
      "line 6 pos 16 identifiers should be the same in \"i×i\"\n"
     ]
    }
   ],
   "source": [
    "assert \"identifiers should be the same\" in compileerr(\"\"\"\n",
    "program p\n",
    "    var x: [0..5] → integer\n",
    "    var i: integer\n",
    "    var j: integer\n",
    "    x := [6•i×j]\n",
    "\"\"\")"
   ]
  },
  {
   "cell_type": "markdown",
   "metadata": {},
   "source": [
    "#### Error \"TIMES expected\""
   ]
  },
  {
   "cell_type": "code",
   "execution_count": 43,
   "metadata": {},
   "outputs": [
    {
     "name": "stdout",
     "output_type": "stream",
     "text": [
      "line 5 pos 14 TIMES expected\n"
     ]
    }
   ],
   "source": [
    "assert \"TIMES expected\" in compileerr(\"\"\"\n",
    "program p\n",
    "    var x: [0..5] → integer\n",
    "    var i: integer\n",
    "    x := [6•i+i]\n",
    "\"\"\")"
   ]
  },
  {
   "cell_type": "markdown",
   "metadata": {},
   "source": [
    "#### Error \"identifier expected\""
   ]
  },
  {
   "cell_type": "code",
   "execution_count": 45,
   "metadata": {},
   "outputs": [
    {
     "name": "stdout",
     "output_type": "stream",
     "text": [
      "line 5 pos 15 identifier expected\n"
     ]
    }
   ],
   "source": [
    "assert \"identifier expected\" in compileerr(\"\"\"\n",
    "program p\n",
    "    var x: [0..5] → integer\n",
    "    var i: integer\n",
    "    x := [6•i×1]\n",
    "\"\"\")"
   ]
  },
  {
   "cell_type": "markdown",
   "metadata": {},
   "source": [
    "#### Error \"] expected\""
   ]
  },
  {
   "cell_type": "code",
   "execution_count": 7,
   "metadata": {},
   "outputs": [
    {
     "name": "stdout",
     "output_type": "stream",
     "text": [
      "line 5 pos 17 ] expected\n"
     ]
    }
   ],
   "source": [
    "assert \"] expected\" in compileerr(\"\"\"\n",
    "program p\n",
    "    var x: [0..5] → integer\n",
    "    var i: integer\n",
    "    x := [1,2,3,4\n",
    "\"\"\")"
   ]
  },
  {
   "cell_type": "markdown",
   "metadata": {},
   "source": [
    "#### Error \"] expected\""
   ]
  },
  {
   "cell_type": "code",
   "execution_count": 8,
   "metadata": {},
   "outputs": [
    {
     "name": "stdout",
     "output_type": "stream",
     "text": [
      "line 5 pos 28 ] expected\n"
     ]
    }
   ],
   "source": [
    "assert \"] expected\" in compileerr(\"\"\"\n",
    "program p\n",
    "    var x: [0..5] → integer\n",
    "    var i: integer\n",
    "    x := [i for i in range 5\n",
    "\"\"\")"
   ]
  },
  {
   "cell_type": "markdown",
   "metadata": {},
   "source": [
    "#### Error \"] expected\""
   ]
  },
  {
   "cell_type": "code",
   "execution_count": 9,
   "metadata": {
    "scrolled": true
   },
   "outputs": [
    {
     "name": "stdout",
     "output_type": "stream",
     "text": [
      "line 5 pos 23 ] expected\n"
     ]
    }
   ],
   "source": [
    "assert \"] expected\" in compileerr(\"\"\"\n",
    "program p\n",
    "    var x: [0..5] → integer\n",
    "    var i: integer\n",
    "    x := found 8 [1..10\n",
    "\"\"\")"
   ]
  },
  {
   "cell_type": "markdown",
   "metadata": {},
   "source": [
    "#### Error \"] expected\""
   ]
  },
  {
   "cell_type": "code",
   "execution_count": 10,
   "metadata": {
    "scrolled": true
   },
   "outputs": [
    {
     "name": "stdout",
     "output_type": "stream",
     "text": [
      "line 5 pos 29 ] expected\n"
     ]
    }
   ],
   "source": [
    "assert \"] expected\" in compileerr(\"\"\"\n",
    "program p\n",
    "    var x: [0..5] → integer\n",
    "    var i: integer\n",
    "    x := sorted [5,3,20,1,4,0\n",
    "\"\"\")"
   ]
  },
  {
   "cell_type": "markdown",
   "metadata": {},
   "source": [
    "#### Error \"'in' expected\""
   ]
  },
  {
   "cell_type": "code",
   "execution_count": 17,
   "metadata": {},
   "outputs": [
    {
     "name": "stdout",
     "output_type": "stream",
     "text": [
      "line 5 pos 23 'in' expected\n"
     ]
    }
   ],
   "source": [
    "assert \"'in' expected\" in compileerr(\"\"\"\n",
    "program p\n",
    "    var x: [0..4] → integer\n",
    "    var i: integer\n",
    "    x := [i for i range 5]\n",
    "\"\"\")"
   ]
  },
  {
   "cell_type": "markdown",
   "metadata": {},
   "source": [
    "#### Error \"'range' expected\""
   ]
  },
  {
   "cell_type": "code",
   "execution_count": 18,
   "metadata": {},
   "outputs": [
    {
     "name": "stdout",
     "output_type": "stream",
     "text": [
      "line 5 pos 22 'range' expected\n"
     ]
    }
   ],
   "source": [
    "assert \"'range' expected\" in compileerr(\"\"\"\n",
    "program p\n",
    "    var x: [0..4] → integer\n",
    "    var i: integer\n",
    "    x := [i for i in 5]\n",
    "\"\"\")"
   ]
  }
 ],
 "metadata": {
  "kernelspec": {
   "display_name": "Python 3",
   "language": "python",
   "name": "python3"
  },
  "language_info": {
   "codemirror_mode": {
    "name": "ipython",
    "version": 3
   },
   "file_extension": ".py",
   "mimetype": "text/x-python",
   "name": "python",
   "nbconvert_exporter": "python",
   "pygments_lexer": "ipython3",
   "version": "3.9.2"
  },
  "toc": {
   "base_numbering": 1,
   "nav_menu": {},
   "number_sections": false,
   "sideBar": false,
   "skip_h1_title": true,
   "title_cell": "Table of Contents",
   "title_sidebar": "Contents",
   "toc_cell": false,
   "toc_position": {},
   "toc_section_display": true,
   "toc_window_display": false
  }
 },
 "nbformat": 4,
 "nbformat_minor": 2
}
