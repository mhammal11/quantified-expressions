{
 "cells": [
  {
   "cell_type": "markdown",
   "metadata": {},
   "source": [
    "### P0 Parsing Tests"
   ]
  },
  {
   "cell_type": "markdown",
   "metadata": {},
   "source": [
    "**Emil Sekerinski, McMaster University, revised February 2022**"
   ]
  },
  {
   "cell_type": "code",
   "execution_count": 1,
   "metadata": {},
   "outputs": [
    {
     "name": "stdout",
     "output_type": "stream",
     "text": [
      "Importing Jupyter notebook from P0.ipynb\n",
      "Importing Jupyter notebook from SC.ipynb\n",
      "Importing Jupyter notebook from ST.ipynb\n"
     ]
    }
   ],
   "source": [
    "import nbimporter; nbimporter.options[\"only_defs\"] = False\n",
    "from P0 import compileString"
   ]
  },
  {
   "cell_type": "code",
   "execution_count": 2,
   "metadata": {},
   "outputs": [],
   "source": [
    "def runpywasm(wasmfile):\n",
    "    import pywasm\n",
    "    def write(s, i): print(i)\n",
    "    def writeln(s): print('\\n')\n",
    "    def read(s): return int(input())\n",
    "    vm = pywasm.load(wasmfile, {'P0lib': {'write': write, 'writeln': writeln, 'read': read}})"
   ]
  },
  {
   "cell_type": "code",
   "execution_count": 3,
   "metadata": {},
   "outputs": [],
   "source": [
    "def runwasm(wasmfile):\n",
    "    from IPython.core.display import display, Javascript\n",
    "    display(Javascript(\"\"\"\n",
    "    const params = { \n",
    "        P0lib: { \n",
    "            write: i => this.append_stream({text: '' + i, name: 'stdout'}),\n",
    "            writeln: () => this.append_stream({text: '\\\\n', name: 'stdout'}),\n",
    "            read: () => window.prompt()\n",
    "        }\n",
    "    }\n",
    "\n",
    "    fetch('\"\"\" + wasmfile + \"\"\"') // asynchronously fetch file, return Response object\n",
    "      .then(response => response.arrayBuffer()) // read the response to completion and stores it in an ArrayBuffer\n",
    "      .then(code => WebAssembly.compile(code)) // compile (sharable) code.wasm\n",
    "      .then(module => WebAssembly.instantiate(module, params)) // create an instance with memory\n",
    "    // .then(instance => instance.exports.program()); // run the main program; not needed if start function specified\n",
    "    \"\"\"))"
   ]
  },
  {
   "cell_type": "code",
   "execution_count": 10,
   "metadata": {},
   "outputs": [],
   "source": [
    "compileString(\"\"\"\n",
    "program p\n",
    "    var x: set[0..1]\n",
    "    var i : integer\n",
    "    var m : integer\n",
    "    var j : integer\n",
    "    var n : integer\n",
    "    x := {i+2 for i in range 5 if i > 2}\n",
    "    m := 1\n",
    "    j := 3\n",
    "    n := 5\n",
    "    if m ∈ x then write(m)\n",
    "    if j ∈ x then write(j)\n",
    "    if n ∈ x then write(n)\n",
    "\"\"\", \"example.wat\")"
   ]
  },
  {
   "cell_type": "code",
   "execution_count": 11,
   "metadata": {},
   "outputs": [],
   "source": [
    "!wat2wasm example.wat"
   ]
  },
  {
   "cell_type": "code",
   "execution_count": 12,
   "metadata": {},
   "outputs": [
    {
     "name": "stdout",
     "output_type": "stream",
     "text": [
      "5\n"
     ]
    }
   ],
   "source": [
    "runpywasm(\"example.wasm\")"
   ]
  },
  {
   "cell_type": "code",
   "execution_count": 19,
   "metadata": {},
   "outputs": [],
   "source": [
    "compileString(\"\"\"\n",
    "program p\n",
    "    var x: set[0..1]\n",
    "    var i : integer\n",
    "    var m : integer\n",
    "    var j : integer\n",
    "    var n : integer\n",
    "    x := {i for i in range 5 if i > 2}\n",
    "    m := 1\n",
    "    j := 3\n",
    "    n := 5\n",
    "    if m ∈ x then write(m)\n",
    "    if j ∈ x then write(j)\n",
    "    if n ∈ x then write(n)\n",
    "\"\"\", \"example.wat\")"
   ]
  },
  {
   "cell_type": "code",
   "execution_count": 17,
   "metadata": {},
   "outputs": [],
   "source": [
    "!wat2wasm example.wat"
   ]
  },
  {
   "cell_type": "code",
   "execution_count": 18,
   "metadata": {},
   "outputs": [
    {
     "name": "stdout",
     "output_type": "stream",
     "text": [
      "3\n"
     ]
    }
   ],
   "source": [
    "runpywasm(\"example.wasm\")"
   ]
  },
  {
   "cell_type": "code",
   "execution_count": 13,
   "metadata": {},
   "outputs": [],
   "source": [
    "compileString(\"\"\"\n",
    "program p\n",
    "    var x: set[0..1]\n",
    "    var i : integer\n",
    "    var m : integer\n",
    "    var j : integer\n",
    "    var n : integer\n",
    "    x := {i for i in range 5}\n",
    "    m := 1\n",
    "    j := 3\n",
    "    n := 5\n",
    "    if m ∈ x then write(m)\n",
    "    if j ∈ x then write(j)\n",
    "    if n ∈ x then write(n)\n",
    "\"\"\", \"example.wat\")"
   ]
  },
  {
   "cell_type": "code",
   "execution_count": 14,
   "metadata": {},
   "outputs": [],
   "source": [
    "!wat2wasm example.wat"
   ]
  },
  {
   "cell_type": "code",
   "execution_count": 15,
   "metadata": {},
   "outputs": [
    {
     "name": "stdout",
     "output_type": "stream",
     "text": [
      "1\n",
      "3\n"
     ]
    }
   ],
   "source": [
    "runpywasm(\"example.wasm\")"
   ]
  },
  {
   "cell_type": "code",
   "execution_count": 20,
   "metadata": {},
   "outputs": [],
   "source": [
    "compileString(\"\"\"\n",
    "program p\n",
    "    var y: [0..1] → integer\n",
    "    var i: integer\n",
    "    y := [i × 5 for i in range 5 if i > 2]\n",
    "    write(y[0])\n",
    "    write(y[1])\n",
    "\"\"\", \"example.wat\")"
   ]
  },
  {
   "cell_type": "code",
   "execution_count": 21,
   "metadata": {},
   "outputs": [],
   "source": [
    "!wat2wasm example.wat"
   ]
  },
  {
   "cell_type": "code",
   "execution_count": 22,
   "metadata": {},
   "outputs": [
    {
     "name": "stdout",
     "output_type": "stream",
     "text": [
      "15\n",
      "20\n"
     ]
    }
   ],
   "source": [
    "runpywasm(\"example.wasm\")"
   ]
  },
  {
   "cell_type": "code",
   "execution_count": 23,
   "metadata": {},
   "outputs": [],
   "source": [
    "compileString(\"\"\"\n",
    "program p\n",
    "    var y: [0..5] → integer\n",
    "    var i: integer\n",
    "    y := [i×5 for i in range 5]\n",
    "    write(y[0])\n",
    "    write(y[1])\n",
    "    write(y[2])\n",
    "    write(y[3])\n",
    "    write(y[4])\n",
    "\"\"\", \"example.wat\")"
   ]
  },
  {
   "cell_type": "code",
   "execution_count": 24,
   "metadata": {},
   "outputs": [],
   "source": [
    "!wat2wasm example.wat"
   ]
  },
  {
   "cell_type": "code",
   "execution_count": 25,
   "metadata": {},
   "outputs": [
    {
     "name": "stdout",
     "output_type": "stream",
     "text": [
      "0\n",
      "5\n",
      "10\n",
      "15\n",
      "20\n"
     ]
    }
   ],
   "source": [
    "runpywasm(\"example.wasm\")"
   ]
  },
  {
   "cell_type": "code",
   "execution_count": 26,
   "metadata": {},
   "outputs": [],
   "source": [
    "compileString(\"\"\"\n",
    "program p\n",
    "    var i: boolean\n",
    "    i := found 8 [1..10]\n",
    "    write(i)\n",
    "\"\"\", \"example.wat\")"
   ]
  },
  {
   "cell_type": "code",
   "execution_count": 27,
   "metadata": {},
   "outputs": [],
   "source": [
    "!wat2wasm example.wat"
   ]
  },
  {
   "cell_type": "code",
   "execution_count": 28,
   "metadata": {},
   "outputs": [
    {
     "name": "stdout",
     "output_type": "stream",
     "text": [
      "1\n"
     ]
    }
   ],
   "source": [
    "runpywasm(\"example.wasm\")"
   ]
  },
  {
   "cell_type": "code",
   "execution_count": 29,
   "metadata": {},
   "outputs": [],
   "source": [
    "compileString(\"\"\"\n",
    "program p\n",
    "    var y: [0..5] → integer\n",
    "    var i: integer\n",
    "    y := sorted [5,3,20,1,4,0]\n",
    "    write(y[0])\n",
    "    write(y[1])\n",
    "    write(y[2])\n",
    "    write(y[3])\n",
    "    write(y[4])\n",
    "    write(y[5])\n",
    "\"\"\", \"example.wat\")"
   ]
  },
  {
   "cell_type": "code",
   "execution_count": 30,
   "metadata": {},
   "outputs": [],
   "source": [
    "!wat2wasm example.wat"
   ]
  },
  {
   "cell_type": "code",
   "execution_count": 31,
   "metadata": {},
   "outputs": [
    {
     "name": "stdout",
     "output_type": "stream",
     "text": [
      "0\n",
      "1\n",
      "3\n",
      "4\n",
      "5\n",
      "20\n"
     ]
    }
   ],
   "source": [
    "runpywasm(\"example.wasm\")"
   ]
  },
  {
   "cell_type": "code",
   "execution_count": 32,
   "metadata": {},
   "outputs": [],
   "source": [
    "compileString(\"\"\"\n",
    "program p\n",
    "    var x: [0..5] → integer\n",
    "    var i: integer\n",
    "    x := [6•i×i]\n",
    "    write(x[0])\n",
    "    write(x[1])\n",
    "    write(x[2])\n",
    "    write(x[3])\n",
    "    write(x[4])\n",
    "    write(x[5])\n",
    "\"\"\", \"example.wat\")"
   ]
  },
  {
   "cell_type": "code",
   "execution_count": 33,
   "metadata": {},
   "outputs": [],
   "source": [
    "!wat2wasm example.wat"
   ]
  },
  {
   "cell_type": "code",
   "execution_count": 34,
   "metadata": {},
   "outputs": [
    {
     "name": "stdout",
     "output_type": "stream",
     "text": [
      "0\n",
      "1\n",
      "4\n",
      "9\n",
      "16\n",
      "25\n"
     ]
    }
   ],
   "source": [
    "runpywasm(\"example.wasm\")"
   ]
  },
  {
   "cell_type": "code",
   "execution_count": 35,
   "metadata": {},
   "outputs": [],
   "source": [
    "compileString(\"\"\"\n",
    "program p\n",
    "    var x: set[0..1]\n",
    "    var i : integer\n",
    "    var m : integer\n",
    "    var j : integer\n",
    "    var n : integer\n",
    "    x := {5 | i mod 2 = 1 • i}\n",
    "    m := 1\n",
    "    j := 3\n",
    "    n := 5\n",
    "    if m ∈ x then write(m)\n",
    "    if j ∈ x then write(j)\n",
    "    if n ∈ x then write(n)\n",
    "\"\"\", \"example.wat\")"
   ]
  },
  {
   "cell_type": "code",
   "execution_count": 36,
   "metadata": {},
   "outputs": [],
   "source": [
    "!wat2wasm example.wat"
   ]
  },
  {
   "cell_type": "code",
   "execution_count": 37,
   "metadata": {},
   "outputs": [
    {
     "name": "stdout",
     "output_type": "stream",
     "text": [
      "1\n",
      "3\n"
     ]
    }
   ],
   "source": [
    "runpywasm(\"example.wasm\")"
   ]
  },
  {
   "cell_type": "markdown",
   "metadata": {},
   "source": [
    "Procedure `compileerr(s)` returns an empty string if compiling `s` succeeds or the error message produced while compiling; the error message is also printed. The procedure is used here to test parsing."
   ]
  },
  {
   "cell_type": "code",
   "execution_count": null,
   "metadata": {},
   "outputs": [],
   "source": [
    "def compileerr(s):\n",
    "    try: compileString(s); return ''\n",
    "    except Exception as e:\n",
    "        print(e); return str(e)"
   ]
  },
  {
   "cell_type": "markdown",
   "metadata": {},
   "source": [
    "#### Error \"] expected\""
   ]
  },
  {
   "cell_type": "code",
   "execution_count": null,
   "metadata": {},
   "outputs": [],
   "source": [
    "assert \"] expected\" in compileerr(\"\"\"\n",
    "var a: [1..10] → integer\n",
    "var x: integer\n",
    "program p\n",
    "    x := a[4\n",
    "\"\"\")"
   ]
  },
  {
   "cell_type": "markdown",
   "metadata": {},
   "source": [
    "#### Error \") expected\""
   ]
  },
  {
   "cell_type": "code",
   "execution_count": null,
   "metadata": {},
   "outputs": [],
   "source": [
    "assert \") expected\" in compileerr(\"\"\"\n",
    "program p\n",
    "  var x: integer\n",
    "    x := (5\n",
    "\"\"\")"
   ]
  },
  {
   "cell_type": "markdown",
   "metadata": {},
   "source": [
    "#### Error \"expression expected\""
   ]
  },
  {
   "cell_type": "code",
   "execution_count": null,
   "metadata": {},
   "outputs": [],
   "source": [
    "assert \"expression expected\" in compileerr(\"\"\"\n",
    "program p\n",
    "  var x: integer\n",
    "    x := +\n",
    "\"\"\")"
   ]
  },
  {
   "cell_type": "markdown",
   "metadata": {},
   "source": [
    "#### Error \"new line expected\""
   ]
  },
  {
   "cell_type": "code",
   "execution_count": null,
   "metadata": {},
   "outputs": [],
   "source": [
    "assert \"new line expected\" in compileerr(\"\"\"\n",
    "program p\n",
    "  write(5) write(7)\n",
    "\"\"\")"
   ]
  },
  {
   "cell_type": "markdown",
   "metadata": {},
   "source": [
    "#### Error \"dedent or new line expected\""
   ]
  },
  {
   "cell_type": "code",
   "execution_count": null,
   "metadata": {},
   "outputs": [],
   "source": [
    "assert \"dedent or new line expected\" in compileerr(\"\"\"\n",
    "program p\n",
    "  write(5)\n",
    "    write(7)\n",
    "\"\"\")"
   ]
  },
  {
   "cell_type": "markdown",
   "metadata": {},
   "source": [
    "#### Error \"indented statement expected\""
   ]
  },
  {
   "cell_type": "code",
   "execution_count": null,
   "metadata": {},
   "outputs": [],
   "source": [
    "assert \"indented statement expected\" in compileerr(\"\"\"\n",
    "procedure p()\n",
    "  if 3 > 4 then\n",
    "writeln()\n",
    "\"\"\")"
   ]
  },
  {
   "cell_type": "markdown",
   "metadata": {},
   "source": [
    "#### Error \"variable for result expected\""
   ]
  },
  {
   "cell_type": "code",
   "execution_count": null,
   "metadata": {},
   "outputs": [],
   "source": [
    "assert \"variable for result expected\" in compileerr(\"\"\"\n",
    "program p\n",
    "  read()\n",
    "\"\"\")"
   ]
  },
  {
   "cell_type": "markdown",
   "metadata": {},
   "source": [
    "#### Error \":= or ← expected\""
   ]
  },
  {
   "cell_type": "code",
   "execution_count": null,
   "metadata": {},
   "outputs": [],
   "source": [
    "assert \":= or ← expected\" in compileerr(\"\"\"\n",
    "var a: [5 .. 7] → integer\n",
    "program p\n",
    "  var b: boolean\n",
    "    a[5] +\n",
    "\"\"\")"
   ]
  },
  {
   "cell_type": "markdown",
   "metadata": {},
   "source": [
    "#### Error \"'(' expected\""
   ]
  },
  {
   "cell_type": "code",
   "execution_count": null,
   "metadata": {},
   "outputs": [],
   "source": [
    "assert \"'(' expected\" in compileerr(\"\"\"\n",
    "program p\n",
    "  writeln\n",
    "\"\"\")"
   ]
  },
  {
   "cell_type": "markdown",
   "metadata": {},
   "source": [
    "#### Error \"')' expected\""
   ]
  },
  {
   "cell_type": "code",
   "execution_count": null,
   "metadata": {},
   "outputs": [],
   "source": [
    "assert \"')' expected\" in compileerr(\"\"\"\n",
    "program p\n",
    "  writeln(\n",
    "\"\"\")"
   ]
  },
  {
   "cell_type": "markdown",
   "metadata": {},
   "source": [
    "#### Error \"'then' expected\""
   ]
  },
  {
   "cell_type": "code",
   "execution_count": null,
   "metadata": {},
   "outputs": [],
   "source": [
    "assert \"'then' expected\" in compileerr(\"\"\"\n",
    "program p\n",
    "  if true write(5)\n",
    "\"\"\")"
   ]
  },
  {
   "cell_type": "markdown",
   "metadata": {},
   "source": [
    "#### Error \"'do' expected\""
   ]
  },
  {
   "cell_type": "code",
   "execution_count": null,
   "metadata": {},
   "outputs": [],
   "source": [
    "assert \"'do' expected\" in compileerr(\"\"\"\n",
    "program p\n",
    "  while true write(5)\n",
    "\"\"\")"
   ]
  },
  {
   "cell_type": "markdown",
   "metadata": {},
   "source": [
    "#### Error \"statement expected\""
   ]
  },
  {
   "cell_type": "code",
   "execution_count": null,
   "metadata": {},
   "outputs": [],
   "source": [
    "assert \"statement expected\" in compileerr(\"\"\"\n",
    "program p\n",
    "  write(3); const c = 5\n",
    "\"\"\")"
   ]
  },
  {
   "cell_type": "markdown",
   "metadata": {},
   "source": [
    "#### Error \"'..' expected\""
   ]
  },
  {
   "cell_type": "code",
   "execution_count": null,
   "metadata": {},
   "outputs": [],
   "source": [
    "assert \"'..' expected\" in compileerr(\"\"\"\n",
    "var a: [5 → integer\n",
    "program p\n",
    "  writeln()\n",
    "\"\"\")"
   ]
  },
  {
   "cell_type": "markdown",
   "metadata": {},
   "source": [
    "#### Error \"']' expected\""
   ]
  },
  {
   "cell_type": "code",
   "execution_count": null,
   "metadata": {},
   "outputs": [],
   "source": [
    "assert \"']' expected\" in compileerr(\"\"\"\n",
    "var a: [5..7 → integer\n",
    "program p\n",
    "  writeln()\n",
    "\"\"\")"
   ]
  },
  {
   "cell_type": "markdown",
   "metadata": {},
   "source": [
    "#### Error \"'→' expected\""
   ]
  },
  {
   "cell_type": "code",
   "execution_count": null,
   "metadata": {},
   "outputs": [],
   "source": [
    "assert \"'→' expected\" in compileerr(\"\"\"\n",
    "var a: [3 .. 7] integer\n",
    "program p\n",
    "  writeln()\n",
    "\"\"\")"
   ]
  },
  {
   "cell_type": "markdown",
   "metadata": {},
   "source": [
    "#### Error \"type expected\""
   ]
  },
  {
   "cell_type": "code",
   "execution_count": null,
   "metadata": {},
   "outputs": [],
   "source": [
    "assert \"type expected\" in compileerr(\"\"\"\n",
    "program p\n",
    "  var x: if\n",
    "\"\"\")"
   ]
  },
  {
   "cell_type": "markdown",
   "metadata": {},
   "source": [
    "#### Error \"identifier expected\""
   ]
  },
  {
   "cell_type": "code",
   "execution_count": null,
   "metadata": {},
   "outputs": [],
   "source": [
    "assert \"identifier expected\" in compileerr(\"\"\"\n",
    "program p\n",
    "  var if: integer\n",
    "\"\"\")"
   ]
  },
  {
   "cell_type": "markdown",
   "metadata": {},
   "source": [
    "#### Error \"identifier expected\""
   ]
  },
  {
   "cell_type": "code",
   "execution_count": null,
   "metadata": {},
   "outputs": [],
   "source": [
    "assert \"identifier expected\" in compileerr(\"\"\"\n",
    "program p\n",
    "  var if: integer\n",
    "\"\"\")"
   ]
  },
  {
   "cell_type": "markdown",
   "metadata": {},
   "source": [
    "#### Error \"identifier expected\""
   ]
  },
  {
   "cell_type": "code",
   "execution_count": null,
   "metadata": {},
   "outputs": [],
   "source": [
    "assert \"identifier expected\" in compileerr(\"\"\"\n",
    "program p\n",
    "  var x, if: integer\n",
    "\"\"\")"
   ]
  },
  {
   "cell_type": "markdown",
   "metadata": {},
   "source": [
    "\n",
    "#### Error \"':' expected\""
   ]
  },
  {
   "cell_type": "code",
   "execution_count": null,
   "metadata": {},
   "outputs": [],
   "source": [
    "assert \"':' expected\" in compileerr(\"\"\"\n",
    "program p\n",
    "  var x integer\n",
    "\"\"\")"
   ]
  },
  {
   "cell_type": "markdown",
   "metadata": {},
   "source": [
    "#### Error \"identifier expected\""
   ]
  },
  {
   "cell_type": "code",
   "execution_count": null,
   "metadata": {},
   "outputs": [],
   "source": [
    "assert \"identifier expected\" in compileerr(\"\"\"\n",
    "program p\n",
    "  var i, j: integer, if: boolean\n",
    "\"\"\")"
   ]
  },
  {
   "cell_type": "markdown",
   "metadata": {},
   "source": [
    "#### Error \"identifier expected\""
   ]
  },
  {
   "cell_type": "code",
   "execution_count": null,
   "metadata": {},
   "outputs": [],
   "source": [
    "assert \"identifier expected\" in compileerr(\"\"\"\n",
    "program p\n",
    "  var i, j: integer, b, if: boolean\n",
    "\"\"\")"
   ]
  },
  {
   "cell_type": "markdown",
   "metadata": {},
   "source": [
    "#### Error \"constant name expected\""
   ]
  },
  {
   "cell_type": "code",
   "execution_count": null,
   "metadata": {},
   "outputs": [],
   "source": [
    "assert \"constant name expected\" in compileerr(\"\"\"\n",
    "program p\n",
    "  const 5 = 7\n",
    "  write(3)\n",
    "\"\"\")"
   ]
  },
  {
   "cell_type": "markdown",
   "metadata": {},
   "source": [
    "#### Error \"= expected\""
   ]
  },
  {
   "cell_type": "code",
   "execution_count": null,
   "metadata": {},
   "outputs": [],
   "source": [
    "assert \"= expected\" in compileerr(\"\"\"\n",
    "program p\n",
    "  const c: 5\n",
    "  write(5)\n",
    "\"\"\")"
   ]
  },
  {
   "cell_type": "markdown",
   "metadata": {},
   "source": [
    "#### Error \"type name expected\""
   ]
  },
  {
   "cell_type": "code",
   "execution_count": null,
   "metadata": {},
   "outputs": [],
   "source": [
    "assert \"type name expected\" in compileerr(\"\"\"\n",
    "program p\n",
    "  type 5 = integer\n",
    "  write(3)\n",
    "\"\"\")"
   ]
  },
  {
   "cell_type": "markdown",
   "metadata": {},
   "source": [
    "#### Error \"= expected\""
   ]
  },
  {
   "cell_type": "code",
   "execution_count": null,
   "metadata": {},
   "outputs": [],
   "source": [
    "assert \"= expected\" in compileerr(\"\"\"\n",
    "program p\n",
    "  type T: integer\n",
    "  writeln()\n",
    "\"\"\")"
   ]
  },
  {
   "cell_type": "markdown",
   "metadata": {},
   "source": [
    "#### Error  \"procedure name expected\""
   ]
  },
  {
   "cell_type": "code",
   "execution_count": null,
   "metadata": {},
   "outputs": [],
   "source": [
    "assert \"procedure name expected\" in compileerr(\"\"\"\n",
    "procedure\n",
    "  writeln()\n",
    "program p\n",
    "  writeln()\n",
    "\"\"\")"
   ]
  },
  {
   "cell_type": "markdown",
   "metadata": {},
   "source": [
    "#### Error  \"( expected\""
   ]
  },
  {
   "cell_type": "code",
   "execution_count": null,
   "metadata": {},
   "outputs": [],
   "source": [
    "assert \"( expected\" in compileerr(\"\"\"\n",
    "procedure q\n",
    "  writeln()\n",
    "program p\n",
    "  writeln()\n",
    "\"\"\")"
   ]
  },
  {
   "cell_type": "markdown",
   "metadata": {},
   "source": [
    "#### Error  \") expected\""
   ]
  },
  {
   "cell_type": "code",
   "execution_count": null,
   "metadata": {},
   "outputs": [],
   "source": [
    "assert \") expected\" in compileerr(\"\"\"\n",
    "procedure q(\n",
    "  writeln()\n",
    "program p\n",
    "  writeln()\n",
    "\"\"\")"
   ]
  },
  {
   "cell_type": "markdown",
   "metadata": {},
   "source": [
    "#### Error  \"( expected\""
   ]
  },
  {
   "cell_type": "code",
   "execution_count": null,
   "metadata": {},
   "outputs": [],
   "source": [
    "assert \"( expected\" in compileerr(\"\"\"\n",
    "procedure q(x: integer) → boolean\n",
    "  writeln()\n",
    "program p\n",
    "  writeln()\n",
    "\"\"\")"
   ]
  },
  {
   "cell_type": "markdown",
   "metadata": {},
   "source": [
    "#### Error  \") expected\""
   ]
  },
  {
   "cell_type": "code",
   "execution_count": null,
   "metadata": {},
   "outputs": [],
   "source": [
    "assert \") expected\" in compileerr(\"\"\"\n",
    "procedure q(x: integer) → (y: boolean\n",
    "  writeln()\n",
    "program p\n",
    "  writeln()\n",
    "\"\"\")"
   ]
  },
  {
   "cell_type": "markdown",
   "metadata": {},
   "source": [
    "#### Error  \"indent expected\""
   ]
  },
  {
   "cell_type": "code",
   "execution_count": null,
   "metadata": {},
   "outputs": [],
   "source": [
    "assert \"indent expected\" in compileerr(\"\"\"\n",
    "program p\n",
    "writeln()\n",
    "\"\"\")"
   ]
  },
  {
   "cell_type": "markdown",
   "metadata": {},
   "source": [
    "#### Error \"dedent or new line expected\""
   ]
  },
  {
   "cell_type": "code",
   "execution_count": null,
   "metadata": {},
   "outputs": [],
   "source": [
    "assert \"dedent or new line expected\" in compileerr(\"\"\"\n",
    "program p\n",
    "  const c = 5\n",
    "    writeln()\n",
    "      writeln()\n",
    "\"\"\")"
   ]
  },
  {
   "cell_type": "markdown",
   "metadata": {},
   "source": [
    "#### Error \"statement expected\""
   ]
  },
  {
   "cell_type": "code",
   "execution_count": null,
   "metadata": {},
   "outputs": [],
   "source": [
    "assert \"statement expected\" in compileerr(\"\"\"\n",
    "program p\n",
    "  program q\n",
    "\"\"\")"
   ]
  },
  {
   "cell_type": "markdown",
   "metadata": {},
   "source": [
    "#### Error \"dedent or new line expected\""
   ]
  },
  {
   "cell_type": "code",
   "execution_count": null,
   "metadata": {},
   "outputs": [],
   "source": [
    "assert \"dedent or new line expected\" in compileerr(\"\"\"\n",
    "program p\n",
    "  writeln()\n",
    "    writeln()\n",
    "\"\"\")"
   ]
  },
  {
   "cell_type": "markdown",
   "metadata": {},
   "source": [
    "#### Error \"'program' expected\""
   ]
  },
  {
   "cell_type": "code",
   "execution_count": null,
   "metadata": {},
   "outputs": [],
   "source": [
    "assert \"'program' expected\" in compileerr(\"\"\"\n",
    "var x: integer\n",
    "\"\"\")"
   ]
  },
  {
   "cell_type": "markdown",
   "metadata": {},
   "source": [
    "#### Error \"program name expected\""
   ]
  },
  {
   "cell_type": "code",
   "execution_count": null,
   "metadata": {},
   "outputs": [],
   "source": [
    "assert \"program name expected\" in compileerr(\"\"\"\n",
    "program\n",
    "  writeln()\n",
    "\"\"\")"
   ]
  },
  {
   "cell_type": "markdown",
   "metadata": {},
   "source": [
    "#### Multiple Indentations"
   ]
  },
  {
   "cell_type": "code",
   "execution_count": null,
   "metadata": {},
   "outputs": [],
   "source": [
    "assert compileString(\"\"\"\n",
    "procedure q()\n",
    "  var b: boolean\n",
    "    b := true\n",
    "    if b then write(3)\n",
    "    else write(5)\n",
    "    if ¬b then write(5)\n",
    "    else if b then write(7)\n",
    "    else write(9)\n",
    "    while b do\n",
    "      if b then\n",
    "        b := false; write(1)\n",
    "program p\n",
    "  if 3 > 4 then writeln() else\n",
    "    q()\n",
    "\"\"\") == \"\"\"\\\n",
    "(module\n",
    "(import \"P0lib\" \"write\" (func $write (param i32)))\n",
    "(import \"P0lib\" \"writeln\" (func $writeln))\n",
    "(import \"P0lib\" \"read\" (func $read (result i32)))\n",
    "(func $q  \n",
    "(local $b i32)\n",
    "(local $0 i32)\n",
    "i32.const 1\n",
    "local.set $b\n",
    "local.get $b\n",
    "if\n",
    "i32.const 3\n",
    "call $write\n",
    "else\n",
    "i32.const 5\n",
    "call $write\n",
    "end\n",
    "local.get $b\n",
    "i32.eqz\n",
    "if\n",
    "i32.const 5\n",
    "call $write\n",
    "else\n",
    "local.get $b\n",
    "if\n",
    "i32.const 7\n",
    "call $write\n",
    "else\n",
    "i32.const 9\n",
    "call $write\n",
    "end\n",
    "end\n",
    "loop\n",
    "local.get $b\n",
    "if\n",
    "local.get $b\n",
    "if\n",
    "i32.const 0\n",
    "local.set $b\n",
    "i32.const 1\n",
    "call $write\n",
    "end\n",
    "br 1\n",
    "end\n",
    "end\n",
    ")\n",
    "(global $_memsize (mut i32) i32.const 0)\n",
    "(func $program\n",
    "(local $0 i32)\n",
    "i32.const 0\n",
    "if\n",
    "call $writeln\n",
    "else\n",
    "call $q\n",
    "end\n",
    ")\n",
    "(memory 1)\n",
    "(start $program)\n",
    ")\"\"\""
   ]
  }
 ],
 "metadata": {
  "kernelspec": {
   "display_name": "Python 3",
   "language": "python",
   "name": "python3"
  },
  "language_info": {
   "codemirror_mode": {
    "name": "ipython",
    "version": 3
   },
   "file_extension": ".py",
   "mimetype": "text/x-python",
   "name": "python",
   "nbconvert_exporter": "python",
   "pygments_lexer": "ipython3",
   "version": "3.8.8"
  },
  "toc": {
   "base_numbering": 1,
   "nav_menu": {},
   "number_sections": false,
   "sideBar": false,
   "skip_h1_title": true,
   "title_cell": "Table of Contents",
   "title_sidebar": "Contents",
   "toc_cell": false,
   "toc_position": {},
   "toc_section_display": true,
   "toc_window_display": false
  }
 },
 "nbformat": 4,
 "nbformat_minor": 2
}
