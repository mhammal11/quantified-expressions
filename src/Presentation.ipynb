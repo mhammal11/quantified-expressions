{
 "cells": [
  {
   "cell_type": "markdown",
   "metadata": {},
   "source": [
    "# Quantified Expressions\n",
    "#### COMP SCI 4TB3/6TB3, McMaster University\n",
    "#### Authors (Group 10): Maanav Garg, Michael Hammal, Tausifur Rahman\n",
    "#### April 2022\n"
   ]
  },
  {
   "cell_type": "markdown",
   "metadata": {},
   "source": [
    "The purpose of this project is to extend the P0 language to support quantified expressions including array and set comprehension as well as extend the code generator by generating a loop for each quantified expression expression, as seen in other common programming languages. "
   ]
  },
  {
   "cell_type": "markdown",
   "metadata": {},
   "source": [
    "### Imports and Definitions"
   ]
  },
  {
   "cell_type": "code",
   "execution_count": null,
   "metadata": {},
   "outputs": [],
   "source": [
    "import nbimporter; nbimporter.options[\"only_defs\"] = False\n",
    "from P0 import compileString"
   ]
  },
  {
   "cell_type": "code",
   "execution_count": null,
   "metadata": {},
   "outputs": [],
   "source": [
    "def runpywasm(wasmfile):\n",
    "    import pywasm\n",
    "    def write(s, i): print(i)\n",
    "    def writeln(s): print('\\n')\n",
    "    def read(s): return int(input())\n",
    "    vm = pywasm.load(wasmfile, {'P0lib': {'write': write, 'writeln': writeln, 'read': read}})"
   ]
  },
  {
   "cell_type": "markdown",
   "metadata": {},
   "source": [
    "## Language Extensions"
   ]
  },
  {
   "cell_type": "markdown",
   "metadata": {},
   "source": [
    "We added support for the following quantified expressions:"
   ]
  },
  {
   "cell_type": "markdown",
   "metadata": {},
   "source": [
    "`sorted := all i ∈ 0 .. N - 1 • a[i] ≤ a[i + 1]`   or   `sorted := ∀ i ∈ 0 .. N - 1 • a[i] ≤ a[i + 1]`"
   ]
  },
  {
   "cell_type": "markdown",
   "metadata": {},
   "source": [
    "Demonstration:"
   ]
  },
  {
   "cell_type": "markdown",
   "metadata": {},
   "source": [
    "The following case sorts the list in increasing order"
   ]
  },
  {
   "cell_type": "code",
   "execution_count": null,
   "metadata": {},
   "outputs": [],
   "source": [
    "compileString(\"\"\"\n",
    "program p\n",
    "    var y: [0..5] → integer\n",
    "    var i: integer\n",
    "    y := sorted [5,3,20,1,4,0]\n",
    "    write(y[0])\n",
    "    write(y[1])\n",
    "    write(y[2])\n",
    "    write(y[3])\n",
    "    write(y[4])\n",
    "    write(y[5])\n",
    "\"\"\", \"example.wat\")"
   ]
  },
  {
   "cell_type": "code",
   "execution_count": null,
   "metadata": {},
   "outputs": [],
   "source": [
    "!wat2wasm example.wat"
   ]
  },
  {
   "cell_type": "code",
   "execution_count": null,
   "metadata": {
    "scrolled": true
   },
   "outputs": [],
   "source": [
    "runpywasm(\"example.wasm\")"
   ]
  },
  {
   "cell_type": "markdown",
   "metadata": {},
   "source": [
    "              "
   ]
  },
  {
   "cell_type": "markdown",
   "metadata": {},
   "source": [
    "`squares := [i ∈ 0 .. N - 1 • i × i]`   or    `squares := [i × i for i ∈ 0 .. N - 1]`"
   ]
  },
  {
   "cell_type": "markdown",
   "metadata": {},
   "source": [
    "Demonstration:"
   ]
  },
  {
   "cell_type": "markdown",
   "metadata": {},
   "source": [
    "The following case generates a list of squares"
   ]
  },
  {
   "cell_type": "code",
   "execution_count": null,
   "metadata": {},
   "outputs": [],
   "source": [
    "compileString(\"\"\"\n",
    "program p\n",
    "    var x: [0..5] → integer\n",
    "    var i: integer\n",
    "    x := [6•i×i]\n",
    "    write(x[0])\n",
    "    write(x[1])\n",
    "    write(x[2])\n",
    "    write(x[3])\n",
    "    write(x[4])\n",
    "    write(x[5])\n",
    "\"\"\", \"example.wat\")"
   ]
  },
  {
   "cell_type": "code",
   "execution_count": null,
   "metadata": {},
   "outputs": [],
   "source": [
    "!wat2wasm example.wat"
   ]
  },
  {
   "cell_type": "code",
   "execution_count": null,
   "metadata": {},
   "outputs": [],
   "source": [
    "runpywasm(\"example.wasm\")"
   ]
  },
  {
   "cell_type": "markdown",
   "metadata": {},
   "source": [
    "              "
   ]
  },
  {
   "cell_type": "markdown",
   "metadata": {},
   "source": [
    "`odds := {i ∈ 0 .. N - 1 | i mod 2 = 1 • i}`    or    `odds := {i for i ∈ 0 .. N - 1 if i mod 2 = 1}`"
   ]
  },
  {
   "cell_type": "markdown",
   "metadata": {},
   "source": [
    "Demonstration:"
   ]
  },
  {
   "cell_type": "markdown",
   "metadata": {},
   "source": [
    "The following case generates a set of odd numbers"
   ]
  },
  {
   "cell_type": "code",
   "execution_count": null,
   "metadata": {},
   "outputs": [],
   "source": [
    "compileString(\"\"\"\n",
    "program p\n",
    "    var x: set[0..1]\n",
    "    var i : integer\n",
    "    var m : integer\n",
    "    var j : integer\n",
    "    var n : integer\n",
    "    x := {5 | i mod 2 = 1 • i}\n",
    "    m := 1\n",
    "    j := 3\n",
    "    n := 5\n",
    "    if m ∈ x then write(m)\n",
    "    if j ∈ x then write(j)\n",
    "    if n ∈ x then write(n)\n",
    "\"\"\", \"example.wat\")"
   ]
  },
  {
   "cell_type": "code",
   "execution_count": null,
   "metadata": {},
   "outputs": [],
   "source": [
    "!wat2wasm example.wat"
   ]
  },
  {
   "cell_type": "code",
   "execution_count": null,
   "metadata": {},
   "outputs": [],
   "source": [
    "runpywasm(\"example.wasm\")"
   ]
  },
  {
   "cell_type": "markdown",
   "metadata": {},
   "source": [
    "              "
   ]
  },
  {
   "cell_type": "markdown",
   "metadata": {},
   "source": [
    "`found := ∃ i ∈ 0 .. N - 1 • a[i] = x`   or    `found := some i ∈ 0 .. N - 1 • a[i] = x`"
   ]
  },
  {
   "cell_type": "markdown",
   "metadata": {},
   "source": [
    "Given an integer and a list of integers, we can check if the integer is a member of the list."
   ]
  },
  {
   "cell_type": "markdown",
   "metadata": {},
   "source": [
    "Demonstration:"
   ]
  },
  {
   "cell_type": "markdown",
   "metadata": {},
   "source": [
    "We can use the exist symbol `∃` to denote that we are asking the question: does there a exist an integer of a certain value in the list?"
   ]
  },
  {
   "cell_type": "markdown",
   "metadata": {},
   "source": [
    "The following case returns false or `0` to indicate that the integer 11 is not a member of the list of integers from 1 to 10"
   ]
  },
  {
   "cell_type": "code",
   "execution_count": null,
   "metadata": {},
   "outputs": [],
   "source": [
    "compileString(\"\"\"\n",
    "program p\n",
    "    var i: boolean\n",
    "    i := ∃ 11 [1..10]\n",
    "    write(i)\n",
    "\"\"\", \"example.wat\")"
   ]
  },
  {
   "cell_type": "code",
   "execution_count": null,
   "metadata": {},
   "outputs": [],
   "source": [
    "!wat2wasm example.wat"
   ]
  },
  {
   "cell_type": "code",
   "execution_count": null,
   "metadata": {},
   "outputs": [],
   "source": [
    "runpywasm(\"example.wasm\")"
   ]
  },
  {
   "cell_type": "markdown",
   "metadata": {},
   "source": [
    "The following case returns true or `1` to indicate that the integer 8 is not a member of the list of integers from 1 to 10"
   ]
  },
  {
   "cell_type": "code",
   "execution_count": null,
   "metadata": {},
   "outputs": [],
   "source": [
    "compileString(\"\"\"\n",
    "program p\n",
    "    var i: boolean\n",
    "    i := ∃ 8 [1..10]\n",
    "    write(i)\n",
    "\"\"\", \"example.wat\")"
   ]
  },
  {
   "cell_type": "code",
   "execution_count": null,
   "metadata": {},
   "outputs": [],
   "source": [
    "!wat2wasm example.wat"
   ]
  },
  {
   "cell_type": "code",
   "execution_count": null,
   "metadata": {},
   "outputs": [],
   "source": [
    "runpywasm(\"example.wasm\")"
   ]
  },
  {
   "cell_type": "markdown",
   "metadata": {},
   "source": [
    "We can also use the keyword `found` to check if an integer is a member of a list"
   ]
  },
  {
   "cell_type": "markdown",
   "metadata": {},
   "source": [
    "The following case returns true or `1` to indicate that the integer 10 is not a member of the list of integers from 1 to 10"
   ]
  },
  {
   "cell_type": "code",
   "execution_count": null,
   "metadata": {},
   "outputs": [],
   "source": [
    "compileString(\"\"\"\n",
    "program p\n",
    "    var i: boolean\n",
    "    i := found 10 [1..10]\n",
    "    write(i)\n",
    "\"\"\", \"example.wat\")"
   ]
  },
  {
   "cell_type": "code",
   "execution_count": null,
   "metadata": {},
   "outputs": [],
   "source": [
    "!wat2wasm example.wat"
   ]
  },
  {
   "cell_type": "code",
   "execution_count": null,
   "metadata": {},
   "outputs": [],
   "source": [
    "runpywasm(\"example.wasm\")"
   ]
  },
  {
   "cell_type": "markdown",
   "metadata": {},
   "source": [
    "### List comprehension"
   ]
  },
  {
   "cell_type": "markdown",
   "metadata": {},
   "source": [
    "We have also extended the P0 language to recognize list comprehension and generate a list based on the conditions provided.\n",
    "\n",
    "We use the keywords `for`, `in`, and `range` in a similar fashion to `Python` to generate the list "
   ]
  },
  {
   "cell_type": "code",
   "execution_count": null,
   "metadata": {},
   "outputs": [],
   "source": [
    "compileString(\"\"\"\n",
    "program p\n",
    "    var y: [0..5] → integer\n",
    "    var i: integer\n",
    "    y := [i for i in range 5]\n",
    "    write(y[0])\n",
    "    write(y[1])\n",
    "    write(y[2])\n",
    "    write(y[3])\n",
    "    write(y[4])\n",
    "\"\"\", \"example.wat\")"
   ]
  },
  {
   "cell_type": "code",
   "execution_count": null,
   "metadata": {},
   "outputs": [],
   "source": [
    "!wat2wasm example.wat"
   ]
  },
  {
   "cell_type": "code",
   "execution_count": null,
   "metadata": {},
   "outputs": [],
   "source": [
    "runpywasm(\"example.wasm\")"
   ]
  },
  {
   "cell_type": "markdown",
   "metadata": {},
   "source": [
    "We can also have arithmetic operations on the elements in the list"
   ]
  },
  {
   "cell_type": "code",
   "execution_count": null,
   "metadata": {},
   "outputs": [],
   "source": [
    "compileString(\"\"\"\n",
    "program p\n",
    "    var y: [0..5] → integer\n",
    "    var i: integer\n",
    "    y := [i×5 for i in range 5]\n",
    "    write(y[0])\n",
    "    write(y[1])\n",
    "    write(y[2])\n",
    "    write(y[3])\n",
    "    write(y[4])\n",
    "\"\"\", \"example.wat\")"
   ]
  },
  {
   "cell_type": "code",
   "execution_count": null,
   "metadata": {},
   "outputs": [],
   "source": [
    "!wat2wasm example.wat"
   ]
  },
  {
   "cell_type": "code",
   "execution_count": null,
   "metadata": {},
   "outputs": [],
   "source": [
    "runpywasm(\"example.wasm\")"
   ]
  },
  {
   "cell_type": "markdown",
   "metadata": {},
   "source": [
    "We can also provide conditions on the elements we want to include in the list"
   ]
  },
  {
   "cell_type": "code",
   "execution_count": null,
   "metadata": {},
   "outputs": [],
   "source": [
    "compileString(\"\"\"\n",
    "program p\n",
    "    var y: [0..1] → integer\n",
    "    var i: integer\n",
    "    y := [i × 5 for i in range 5 if i > 2]\n",
    "    write(y[0])\n",
    "    write(y[1])\n",
    "\"\"\", \"example.wat\")"
   ]
  },
  {
   "cell_type": "code",
   "execution_count": null,
   "metadata": {},
   "outputs": [],
   "source": [
    "!wat2wasm example.wat"
   ]
  },
  {
   "cell_type": "code",
   "execution_count": null,
   "metadata": {},
   "outputs": [],
   "source": [
    "runpywasm(\"example.wasm\")"
   ]
  },
  {
   "cell_type": "markdown",
   "metadata": {},
   "source": [
    "### Set comprehension"
   ]
  },
  {
   "cell_type": "markdown",
   "metadata": {},
   "source": [
    "We have also extended the P0 language to recognize set comprehension and generate a set based on the conditions provided.\n",
    "\n",
    "We use the keywords `for`, `in`, and `range` in a similar fashion to `Python` to generate the set "
   ]
  },
  {
   "cell_type": "code",
   "execution_count": null,
   "metadata": {},
   "outputs": [],
   "source": [
    "compileString(\"\"\"\n",
    "program p\n",
    "    var x: set[0..1]\n",
    "    var i : integer\n",
    "    var m : integer\n",
    "    var j : integer\n",
    "    var n : integer\n",
    "    x := {i for i in range 5}\n",
    "    m := 1\n",
    "    j := 3\n",
    "    n := 5\n",
    "    if m ∈ x then write(m)\n",
    "    if j ∈ x then write(j)\n",
    "    if n ∈ x then write(n)\n",
    "\"\"\", \"example.wat\")"
   ]
  },
  {
   "cell_type": "code",
   "execution_count": null,
   "metadata": {},
   "outputs": [],
   "source": [
    "!wat2wasm example.wat"
   ]
  },
  {
   "cell_type": "code",
   "execution_count": null,
   "metadata": {},
   "outputs": [],
   "source": [
    "runpywasm(\"example.wasm\")"
   ]
  },
  {
   "cell_type": "markdown",
   "metadata": {},
   "source": [
    "We can also have arithmetic operations on the elements in the set"
   ]
  },
  {
   "cell_type": "code",
   "execution_count": null,
   "metadata": {},
   "outputs": [],
   "source": [
    "compileString(\"\"\"\n",
    "program p\n",
    "    var x: set[0..1]\n",
    "    var i : integer\n",
    "    var m : integer\n",
    "    var j : integer\n",
    "    var n : integer\n",
    "    x := {i + 2 for i in range 5}\n",
    "    m := 1\n",
    "    j := 3\n",
    "    n := 5\n",
    "    if m ∈ x then write(m)\n",
    "    if j ∈ x then write(j)\n",
    "    if n ∈ x then write(n)\n",
    "\"\"\", \"example.wat\")"
   ]
  },
  {
   "cell_type": "code",
   "execution_count": null,
   "metadata": {},
   "outputs": [],
   "source": [
    "!wat2wasm example.wat"
   ]
  },
  {
   "cell_type": "code",
   "execution_count": null,
   "metadata": {},
   "outputs": [],
   "source": [
    "runpywasm(\"example.wasm\")"
   ]
  },
  {
   "cell_type": "markdown",
   "metadata": {},
   "source": [
    "We can also provide conditions on the elements we want to include in the set"
   ]
  },
  {
   "cell_type": "code",
   "execution_count": null,
   "metadata": {},
   "outputs": [],
   "source": [
    "compileString(\"\"\"\n",
    "program p\n",
    "    var x: set[0..1]\n",
    "    var i : integer\n",
    "    var m : integer\n",
    "    var j : integer\n",
    "    var n : integer\n",
    "    x := {i for i in range 5 if i > 2}\n",
    "    m := 1\n",
    "    j := 3\n",
    "    n := 5\n",
    "    if m ∈ x then write(m)\n",
    "    if j ∈ x then write(j)\n",
    "    if n ∈ x then write(n)\n",
    "\"\"\", \"example.wat\")"
   ]
  },
  {
   "cell_type": "code",
   "execution_count": null,
   "metadata": {},
   "outputs": [],
   "source": [
    "!wat2wasm example.wat"
   ]
  },
  {
   "cell_type": "code",
   "execution_count": null,
   "metadata": {},
   "outputs": [],
   "source": [
    "runpywasm(\"example.wasm\")"
   ]
  },
  {
   "cell_type": "markdown",
   "metadata": {},
   "source": [
    "## Implementation"
   ]
  },
  {
   "cell_type": "markdown",
   "metadata": {},
   "source": [
    "### Modify P0.ipynb\n",
    "In regards to `P0`, the following functions were extended:\n",
    "\n",
    "\n",
    "`factor()`: This function was modified, by adding support for the following:\n",
    "\n",
    "* LBRACE\n",
    "* LBRAK\n",
    "* SORTED\n",
    "* EXISTS\n",
    "\n",
    "\n",
    "\n",
    "statement(): For this function, the if statement code block pertaining to BECOMES was modified and extended."
   ]
  },
  {
   "cell_type": "markdown",
   "metadata": {},
   "source": [
    "### Modify SC.ipynb\n",
    "New symbols were encoded in SC. The new symbols are:\n",
    "\n",
    "\n",
    "* DOT: Allowed ‘•’ to be scanned\n",
    "\n",
    "* PIPE: Allowed ‘|’ to be scanned\n",
    "\n",
    "* SORTED: Allowed the scanner to recognize the string “SORTED” and then sort the array\n",
    "\n",
    "* EXISTS: Allowed ‘∃’ to be scanned\n",
    "\n",
    "* RANGE: Allowed the scanner to recognize the string “RANGE” then generates a list with a range of 0 to n. The semantics are the same as Python’s range\n",
    "\n",
    "* FOR: Allowed the parser to recognize the string “FOR”\n",
    "\n",
    "* IN: Allowed the parser to recognize the string “IN”\n",
    "\n",
    "Sorted, exists, range, for and in were parsed in the procedure `identKW()`. Parsing these keywords directly in `getSym()` can prevent identifiers starting with ‘s’, ‘sort’ and many others."
   ]
  },
  {
   "cell_type": "markdown",
   "metadata": {},
   "source": [
    "### Modifying ST.ipynb\n",
    "\n",
    "A new type was introduced (Array Elements) that holds the values of the members of the array in order to be able to generate different lists based on list comprehension expressions. Given that, the following class was added to ST.ipynb:\n",
    "\n",
    "```python\n",
    "class ArrayElements:\n",
    "    def __init__(self, values):\n",
    "        self.values = values\n",
    "    def __str__(self):\n",
    "        return 'ArrayElements(values = [' + ', '.join(str(i) for i in self.values) + '])'\n",
    "```"
   ]
  },
  {
   "cell_type": "markdown",
   "metadata": {},
   "source": [
    "## Challenges"
   ]
  },
  {
   "cell_type": "markdown",
   "metadata": {},
   "source": [
    "After receiving feedback regarding our project proposal, we planned to start working on the project as soon as possible to get a head start. However, due to conflicts with work and other courses in school, we were unable to follow the weekly agenda we had envisioned in the project proposal. We had to take some time to lay out the scope of the project by first introducing the grammar extensions in the required format which we had failed to do for the project proposal. After that, we had a much clearer understanding of the project and the problem we are trying to solve and from there we were able to start piecing together the different components and what we needed to do to extend the P0 compiler with list and set expressions.\n",
    "\n",
    "Additionally, from a more niche perspective, we were also struggling with the following:\n",
    "\n",
    "- Building a robust coding workflow. As most of our “coding” was done on Jupyter Notebook, which was hosted on Jupyter Hub, pushing our changes to GitLab became a day-to-day challenge. Due to which, we opted in sharing any files we modified via file transfer, and opted in making all the changes on one person’s Jupyter Hub.\n",
    "\n",
    "- Debugging and understanding the problem. As mentioned above, we really struggled to understand the actual scope of the project in the beginning. Due to which, we ended up employing the concept of “pair programming”, where we debugged and coded by sharing our screens.\n",
    "\n",
    "- Organizing time to work together. Since we all had other courses that were overloading our schedules, it was relatively difficult to find and set aside time for all 3 of us to chat and discuss the project. More often than not, only 2 people would be available at the same time."
   ]
  },
  {
   "cell_type": "markdown",
   "metadata": {},
   "source": [
    "## Future Improvements\n",
    "\n",
    "In the future, we would like to modify our implementation for quantified expressions to include list comprehension with custom ranges. So for example, instead of the ranges starting at `0` and finishing at `N-1` where `N` is a provided integer, we can provide two integers `(N,M)` in the expression such that `N <= M` and the range will start at `N` and end at `M-1` to provide more flexibility in generating lists and sets."
   ]
  },
  {
   "cell_type": "markdown",
   "metadata": {},
   "source": [
    "## Statistics\n",
    "\n",
    "* ~400 lines of code (excluding test cases). Modifications made in:\n",
    "    - P0\n",
    "    - SC\n",
    "    - ST\n",
    "\n",
    "* 38 test cases:\n",
    "    - 23 Error Checking cases\n",
    "    - 15 Validation cases"
   ]
  },
  {
   "cell_type": "markdown",
   "metadata": {},
   "source": [
    "## References\n",
    "\n",
    "Web Assembly:\n",
    "\n",
    "- WebAssembly. (n.d.). Retrieved March 8, 2022, from https://developer.mozilla.org/en-US/docs/WebAssembly\n",
    "\n",
    "- Rossberg, A. (n.d.). WebAssembly Specification. Retrieved March 8, 2022, from https://webassembly.github.io/spec/core/"
   ]
  }
 ],
 "metadata": {
  "kernelspec": {
   "display_name": "Python 3",
   "language": "python",
   "name": "python3"
  },
  "language_info": {
   "codemirror_mode": {
    "name": "ipython",
    "version": 3
   },
   "file_extension": ".py",
   "mimetype": "text/x-python",
   "name": "python",
   "nbconvert_exporter": "python",
   "pygments_lexer": "ipython3",
   "version": "3.8.8"
  },
  "livereveal": {
   "scroll": true
  },
  "rise": {
   "enable_chalkboard": true
  }
 },
 "nbformat": 4,
 "nbformat_minor": 2
}
